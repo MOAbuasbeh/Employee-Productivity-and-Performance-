{
 "cells": [
  {
   "cell_type": "code",
   "execution_count": 3,
   "id": "79c3c7fc-9790-4556-8f5a-47154707efac",
   "metadata": {},
   "outputs": [
    {
     "name": "stdout",
     "output_type": "stream",
     "text": [
      "Hello World !\n"
     ]
    }
   ],
   "source": [
    "print(\"Hello World !\")"
   ]
  },
  {
   "cell_type": "code",
   "execution_count": 5,
   "id": "6f9ca8c7-8cdf-4959-b864-9f6311a15348",
   "metadata": {},
   "outputs": [],
   "source": [
    "import pandas as pd"
   ]
  },
  {
   "cell_type": "code",
   "execution_count": 7,
   "id": "9b732b63-0cea-4b0d-94e2-08030709b3c6",
   "metadata": {},
   "outputs": [],
   "source": [
    "import numpy as np"
   ]
  },
  {
   "cell_type": "code",
   "execution_count": 19,
   "id": "882493d7-4ba9-4267-8c28-f0903a6ab434",
   "metadata": {
    "scrolled": true
   },
   "outputs": [],
   "source": [
    "df = pd.read_csv(r\"C:\\Users\\MOHAMMED\\Desktop\\Correlation One\\Project\\archive\\Extended_Employee_Performance_and_Productivity_Data.csv\")"
   ]
  },
  {
   "cell_type": "code",
   "execution_count": 17,
   "id": "a45c9f05-4410-438a-8f49-5a2102540759",
   "metadata": {
    "collapsed": true,
    "jupyter": {
     "outputs_hidden": true
    },
    "scrolled": true
   },
   "outputs": [
    {
     "data": {
      "text/plain": [
       "[    Year  World Population Yearly Change  Net Change  Density (P/Km²)\n",
       " 0   2024        8161972572        0.87 %  70237642.0             55.0\n",
       " 1   2023        8091734930        0.88 %  70327738.0             54.0\n",
       " 2   2022        8021407192        0.84 %  66958801.0             54.0\n",
       " 3   2021        7954448391        0.86 %  67447099.0             53.0\n",
       " 4   2020        7887001292        0.97 %  75707594.0             53.0\n",
       " ..   ...               ...           ...         ...              ...\n",
       " 92 -1000          50000000           NaN         NaN              NaN\n",
       " 93 -2000          27000000           NaN         NaN              NaN\n",
       " 94 -3000          14000000           NaN         NaN              NaN\n",
       " 95 -4000           7000000           NaN         NaN              NaN\n",
       " 96 -5000           5000000           NaN         NaN              NaN\n",
       " \n",
       " [97 rows x 5 columns]]"
      ]
     },
     "execution_count": 17,
     "metadata": {},
     "output_type": "execute_result"
    }
   ],
   "source": [
    " pd.read_html(r\"https://www.worldometers.info/world-population/world-population-by-year/\")"
   ]
  },
  {
   "cell_type": "code",
   "execution_count": 21,
   "id": "fb1e73f2-c234-451a-af57-00c58498a09b",
   "metadata": {},
   "outputs": [
    {
     "data": {
      "text/html": [
       "<div>\n",
       "<style scoped>\n",
       "    .dataframe tbody tr th:only-of-type {\n",
       "        vertical-align: middle;\n",
       "    }\n",
       "\n",
       "    .dataframe tbody tr th {\n",
       "        vertical-align: top;\n",
       "    }\n",
       "\n",
       "    .dataframe thead th {\n",
       "        text-align: right;\n",
       "    }\n",
       "</style>\n",
       "<table border=\"1\" class=\"dataframe\">\n",
       "  <thead>\n",
       "    <tr style=\"text-align: right;\">\n",
       "      <th></th>\n",
       "      <th>Employee_ID</th>\n",
       "      <th>Department</th>\n",
       "      <th>Gender</th>\n",
       "      <th>Age</th>\n",
       "      <th>Job_Title</th>\n",
       "      <th>Hire_Date</th>\n",
       "      <th>Years_At_Company</th>\n",
       "      <th>Education_Level</th>\n",
       "      <th>Performance_Score</th>\n",
       "      <th>Monthly_Salary</th>\n",
       "      <th>Work_Hours_Per_Week</th>\n",
       "      <th>Projects_Handled</th>\n",
       "      <th>Overtime_Hours</th>\n",
       "      <th>Sick_Days</th>\n",
       "      <th>Remote_Work_Frequency</th>\n",
       "      <th>Team_Size</th>\n",
       "      <th>Training_Hours</th>\n",
       "      <th>Promotions</th>\n",
       "      <th>Employee_Satisfaction_Score</th>\n",
       "      <th>Resigned</th>\n",
       "    </tr>\n",
       "  </thead>\n",
       "  <tbody>\n",
       "    <tr>\n",
       "      <th>0</th>\n",
       "      <td>1</td>\n",
       "      <td>IT</td>\n",
       "      <td>Male</td>\n",
       "      <td>55</td>\n",
       "      <td>Specialist</td>\n",
       "      <td>03:05.6</td>\n",
       "      <td>2</td>\n",
       "      <td>High School</td>\n",
       "      <td>5</td>\n",
       "      <td>6750</td>\n",
       "      <td>33</td>\n",
       "      <td>32</td>\n",
       "      <td>22</td>\n",
       "      <td>2</td>\n",
       "      <td>0</td>\n",
       "      <td>14</td>\n",
       "      <td>66</td>\n",
       "      <td>0</td>\n",
       "      <td>2.63</td>\n",
       "      <td>False</td>\n",
       "    </tr>\n",
       "    <tr>\n",
       "      <th>1</th>\n",
       "      <td>2</td>\n",
       "      <td>Finance</td>\n",
       "      <td>Male</td>\n",
       "      <td>29</td>\n",
       "      <td>Developer</td>\n",
       "      <td>03:05.6</td>\n",
       "      <td>0</td>\n",
       "      <td>High School</td>\n",
       "      <td>5</td>\n",
       "      <td>7500</td>\n",
       "      <td>34</td>\n",
       "      <td>34</td>\n",
       "      <td>13</td>\n",
       "      <td>14</td>\n",
       "      <td>100</td>\n",
       "      <td>12</td>\n",
       "      <td>61</td>\n",
       "      <td>2</td>\n",
       "      <td>1.72</td>\n",
       "      <td>False</td>\n",
       "    </tr>\n",
       "    <tr>\n",
       "      <th>2</th>\n",
       "      <td>3</td>\n",
       "      <td>Finance</td>\n",
       "      <td>Male</td>\n",
       "      <td>55</td>\n",
       "      <td>Specialist</td>\n",
       "      <td>03:05.6</td>\n",
       "      <td>8</td>\n",
       "      <td>High School</td>\n",
       "      <td>3</td>\n",
       "      <td>5850</td>\n",
       "      <td>37</td>\n",
       "      <td>27</td>\n",
       "      <td>6</td>\n",
       "      <td>3</td>\n",
       "      <td>50</td>\n",
       "      <td>10</td>\n",
       "      <td>1</td>\n",
       "      <td>0</td>\n",
       "      <td>3.17</td>\n",
       "      <td>False</td>\n",
       "    </tr>\n",
       "    <tr>\n",
       "      <th>3</th>\n",
       "      <td>4</td>\n",
       "      <td>Customer Support</td>\n",
       "      <td>Female</td>\n",
       "      <td>48</td>\n",
       "      <td>Analyst</td>\n",
       "      <td>03:05.6</td>\n",
       "      <td>7</td>\n",
       "      <td>Bachelor</td>\n",
       "      <td>2</td>\n",
       "      <td>4800</td>\n",
       "      <td>52</td>\n",
       "      <td>10</td>\n",
       "      <td>28</td>\n",
       "      <td>12</td>\n",
       "      <td>100</td>\n",
       "      <td>10</td>\n",
       "      <td>0</td>\n",
       "      <td>1</td>\n",
       "      <td>1.86</td>\n",
       "      <td>False</td>\n",
       "    </tr>\n",
       "    <tr>\n",
       "      <th>4</th>\n",
       "      <td>5</td>\n",
       "      <td>Engineering</td>\n",
       "      <td>Female</td>\n",
       "      <td>36</td>\n",
       "      <td>Analyst</td>\n",
       "      <td>03:05.6</td>\n",
       "      <td>3</td>\n",
       "      <td>Bachelor</td>\n",
       "      <td>2</td>\n",
       "      <td>4800</td>\n",
       "      <td>38</td>\n",
       "      <td>11</td>\n",
       "      <td>29</td>\n",
       "      <td>13</td>\n",
       "      <td>100</td>\n",
       "      <td>15</td>\n",
       "      <td>9</td>\n",
       "      <td>1</td>\n",
       "      <td>1.25</td>\n",
       "      <td>False</td>\n",
       "    </tr>\n",
       "  </tbody>\n",
       "</table>\n",
       "</div>"
      ],
      "text/plain": [
       "   Employee_ID        Department  Gender  Age   Job_Title Hire_Date  \\\n",
       "0            1                IT    Male   55  Specialist   03:05.6   \n",
       "1            2           Finance    Male   29   Developer   03:05.6   \n",
       "2            3           Finance    Male   55  Specialist   03:05.6   \n",
       "3            4  Customer Support  Female   48     Analyst   03:05.6   \n",
       "4            5       Engineering  Female   36     Analyst   03:05.6   \n",
       "\n",
       "   Years_At_Company Education_Level  Performance_Score  Monthly_Salary  \\\n",
       "0                 2     High School                  5            6750   \n",
       "1                 0     High School                  5            7500   \n",
       "2                 8     High School                  3            5850   \n",
       "3                 7        Bachelor                  2            4800   \n",
       "4                 3        Bachelor                  2            4800   \n",
       "\n",
       "   Work_Hours_Per_Week  Projects_Handled  Overtime_Hours  Sick_Days  \\\n",
       "0                   33                32              22          2   \n",
       "1                   34                34              13         14   \n",
       "2                   37                27               6          3   \n",
       "3                   52                10              28         12   \n",
       "4                   38                11              29         13   \n",
       "\n",
       "   Remote_Work_Frequency  Team_Size  Training_Hours  Promotions  \\\n",
       "0                      0         14              66           0   \n",
       "1                    100         12              61           2   \n",
       "2                     50         10               1           0   \n",
       "3                    100         10               0           1   \n",
       "4                    100         15               9           1   \n",
       "\n",
       "   Employee_Satisfaction_Score  Resigned  \n",
       "0                         2.63     False  \n",
       "1                         1.72     False  \n",
       "2                         3.17     False  \n",
       "3                         1.86     False  \n",
       "4                         1.25     False  "
      ]
     },
     "execution_count": 21,
     "metadata": {},
     "output_type": "execute_result"
    }
   ],
   "source": [
    "df.head()"
   ]
  },
  {
   "cell_type": "code",
   "execution_count": 23,
   "id": "21631827-2b1a-4061-82de-95af31da1efb",
   "metadata": {
    "collapsed": true,
    "jupyter": {
     "outputs_hidden": true
    }
   },
   "outputs": [
    {
     "data": {
      "text/html": [
       "<div>\n",
       "<style scoped>\n",
       "    .dataframe tbody tr th:only-of-type {\n",
       "        vertical-align: middle;\n",
       "    }\n",
       "\n",
       "    .dataframe tbody tr th {\n",
       "        vertical-align: top;\n",
       "    }\n",
       "\n",
       "    .dataframe thead th {\n",
       "        text-align: right;\n",
       "    }\n",
       "</style>\n",
       "<table border=\"1\" class=\"dataframe\">\n",
       "  <thead>\n",
       "    <tr style=\"text-align: right;\">\n",
       "      <th></th>\n",
       "      <th>Employee_ID</th>\n",
       "      <th>Department</th>\n",
       "      <th>Gender</th>\n",
       "      <th>Age</th>\n",
       "      <th>Job_Title</th>\n",
       "      <th>Hire_Date</th>\n",
       "      <th>Years_At_Company</th>\n",
       "      <th>Education_Level</th>\n",
       "      <th>Performance_Score</th>\n",
       "      <th>Monthly_Salary</th>\n",
       "      <th>Work_Hours_Per_Week</th>\n",
       "      <th>Projects_Handled</th>\n",
       "      <th>Overtime_Hours</th>\n",
       "      <th>Sick_Days</th>\n",
       "      <th>Remote_Work_Frequency</th>\n",
       "      <th>Team_Size</th>\n",
       "      <th>Training_Hours</th>\n",
       "      <th>Promotions</th>\n",
       "      <th>Employee_Satisfaction_Score</th>\n",
       "      <th>Resigned</th>\n",
       "    </tr>\n",
       "  </thead>\n",
       "  <tbody>\n",
       "    <tr>\n",
       "      <th>99995</th>\n",
       "      <td>99996</td>\n",
       "      <td>Finance</td>\n",
       "      <td>Male</td>\n",
       "      <td>27</td>\n",
       "      <td>Technician</td>\n",
       "      <td>03:05.6</td>\n",
       "      <td>1</td>\n",
       "      <td>Bachelor</td>\n",
       "      <td>4</td>\n",
       "      <td>4900</td>\n",
       "      <td>55</td>\n",
       "      <td>46</td>\n",
       "      <td>5</td>\n",
       "      <td>3</td>\n",
       "      <td>75</td>\n",
       "      <td>16</td>\n",
       "      <td>48</td>\n",
       "      <td>2</td>\n",
       "      <td>1.28</td>\n",
       "      <td>False</td>\n",
       "    </tr>\n",
       "    <tr>\n",
       "      <th>99996</th>\n",
       "      <td>99997</td>\n",
       "      <td>IT</td>\n",
       "      <td>Female</td>\n",
       "      <td>36</td>\n",
       "      <td>Consultant</td>\n",
       "      <td>03:05.6</td>\n",
       "      <td>6</td>\n",
       "      <td>Master</td>\n",
       "      <td>5</td>\n",
       "      <td>8250</td>\n",
       "      <td>39</td>\n",
       "      <td>35</td>\n",
       "      <td>7</td>\n",
       "      <td>0</td>\n",
       "      <td>0</td>\n",
       "      <td>10</td>\n",
       "      <td>77</td>\n",
       "      <td>1</td>\n",
       "      <td>3.48</td>\n",
       "      <td>True</td>\n",
       "    </tr>\n",
       "    <tr>\n",
       "      <th>99997</th>\n",
       "      <td>99998</td>\n",
       "      <td>Operations</td>\n",
       "      <td>Male</td>\n",
       "      <td>53</td>\n",
       "      <td>Analyst</td>\n",
       "      <td>03:05.6</td>\n",
       "      <td>8</td>\n",
       "      <td>High School</td>\n",
       "      <td>2</td>\n",
       "      <td>4800</td>\n",
       "      <td>31</td>\n",
       "      <td>13</td>\n",
       "      <td>6</td>\n",
       "      <td>5</td>\n",
       "      <td>0</td>\n",
       "      <td>5</td>\n",
       "      <td>87</td>\n",
       "      <td>1</td>\n",
       "      <td>2.60</td>\n",
       "      <td>False</td>\n",
       "    </tr>\n",
       "    <tr>\n",
       "      <th>99998</th>\n",
       "      <td>99999</td>\n",
       "      <td>HR</td>\n",
       "      <td>Female</td>\n",
       "      <td>22</td>\n",
       "      <td>Consultant</td>\n",
       "      <td>03:05.6</td>\n",
       "      <td>9</td>\n",
       "      <td>High School</td>\n",
       "      <td>5</td>\n",
       "      <td>8250</td>\n",
       "      <td>35</td>\n",
       "      <td>43</td>\n",
       "      <td>10</td>\n",
       "      <td>1</td>\n",
       "      <td>75</td>\n",
       "      <td>2</td>\n",
       "      <td>31</td>\n",
       "      <td>1</td>\n",
       "      <td>3.10</td>\n",
       "      <td>False</td>\n",
       "    </tr>\n",
       "    <tr>\n",
       "      <th>99999</th>\n",
       "      <td>100000</td>\n",
       "      <td>Finance</td>\n",
       "      <td>Female</td>\n",
       "      <td>43</td>\n",
       "      <td>Analyst</td>\n",
       "      <td>03:05.6</td>\n",
       "      <td>0</td>\n",
       "      <td>PhD</td>\n",
       "      <td>1</td>\n",
       "      <td>4400</td>\n",
       "      <td>51</td>\n",
       "      <td>43</td>\n",
       "      <td>27</td>\n",
       "      <td>11</td>\n",
       "      <td>75</td>\n",
       "      <td>13</td>\n",
       "      <td>45</td>\n",
       "      <td>1</td>\n",
       "      <td>2.64</td>\n",
       "      <td>False</td>\n",
       "    </tr>\n",
       "  </tbody>\n",
       "</table>\n",
       "</div>"
      ],
      "text/plain": [
       "       Employee_ID  Department  Gender  Age   Job_Title Hire_Date  \\\n",
       "99995        99996     Finance    Male   27  Technician   03:05.6   \n",
       "99996        99997          IT  Female   36  Consultant   03:05.6   \n",
       "99997        99998  Operations    Male   53     Analyst   03:05.6   \n",
       "99998        99999          HR  Female   22  Consultant   03:05.6   \n",
       "99999       100000     Finance  Female   43     Analyst   03:05.6   \n",
       "\n",
       "       Years_At_Company Education_Level  Performance_Score  Monthly_Salary  \\\n",
       "99995                 1        Bachelor                  4            4900   \n",
       "99996                 6          Master                  5            8250   \n",
       "99997                 8     High School                  2            4800   \n",
       "99998                 9     High School                  5            8250   \n",
       "99999                 0             PhD                  1            4400   \n",
       "\n",
       "       Work_Hours_Per_Week  Projects_Handled  Overtime_Hours  Sick_Days  \\\n",
       "99995                   55                46               5          3   \n",
       "99996                   39                35               7          0   \n",
       "99997                   31                13               6          5   \n",
       "99998                   35                43              10          1   \n",
       "99999                   51                43              27         11   \n",
       "\n",
       "       Remote_Work_Frequency  Team_Size  Training_Hours  Promotions  \\\n",
       "99995                     75         16              48           2   \n",
       "99996                      0         10              77           1   \n",
       "99997                      0          5              87           1   \n",
       "99998                     75          2              31           1   \n",
       "99999                     75         13              45           1   \n",
       "\n",
       "       Employee_Satisfaction_Score  Resigned  \n",
       "99995                         1.28     False  \n",
       "99996                         3.48      True  \n",
       "99997                         2.60     False  \n",
       "99998                         3.10     False  \n",
       "99999                         2.64     False  "
      ]
     },
     "execution_count": 23,
     "metadata": {},
     "output_type": "execute_result"
    }
   ],
   "source": [
    "df.tail()"
   ]
  },
  {
   "cell_type": "code",
   "execution_count": 27,
   "id": "73f2e6fe-0223-4a14-9e14-f21ae1d78aa5",
   "metadata": {
    "collapsed": true,
    "jupyter": {
     "outputs_hidden": true
    },
    "scrolled": true
   },
   "outputs": [
    {
     "data": {
      "text/plain": [
       "0                      IT\n",
       "1                 Finance\n",
       "2                 Finance\n",
       "3        Customer Support\n",
       "4             Engineering\n",
       "               ...       \n",
       "99995             Finance\n",
       "99996                  IT\n",
       "99997          Operations\n",
       "99998                  HR\n",
       "99999             Finance\n",
       "Name: Department, Length: 100000, dtype: object"
      ]
     },
     "execution_count": 27,
     "metadata": {},
     "output_type": "execute_result"
    }
   ],
   "source": [
    "df[\"Department\"]"
   ]
  },
  {
   "cell_type": "code",
   "execution_count": 29,
   "id": "46fca640-2820-439d-ac85-5e76d3511b9e",
   "metadata": {},
   "outputs": [
    {
     "data": {
      "text/plain": [
       "count    100000.000000\n",
       "mean       6403.211000\n",
       "std        1372.508717\n",
       "min        3850.000000\n",
       "25%        5250.000000\n",
       "50%        6500.000000\n",
       "75%        7500.000000\n",
       "max        9000.000000\n",
       "Name: Monthly_Salary, dtype: float64"
      ]
     },
     "execution_count": 29,
     "metadata": {},
     "output_type": "execute_result"
    }
   ],
   "source": [
    "df[\"Monthly_Salary\"].describe()"
   ]
  },
  {
   "cell_type": "code",
   "execution_count": 31,
   "id": "a9c616db-3e4b-4d47-9232-7a7dd6b64741",
   "metadata": {},
   "outputs": [
    {
     "data": {
      "text/plain": [
       "4950606"
      ]
     },
     "execution_count": 31,
     "metadata": {},
     "output_type": "execute_result"
    }
   ],
   "source": [
    "df[\"Training_Hours\"].sum()"
   ]
  },
  {
   "cell_type": "code",
   "execution_count": 39,
   "id": "4f88b6a2-654b-40c6-aa82-1919cfdf72b8",
   "metadata": {},
   "outputs": [],
   "source": [
    "dfgroup = df.groupby('Department').mean('Age')"
   ]
  },
  {
   "cell_type": "code",
   "execution_count": null,
   "id": "05fa9a70-01a7-4ccb-aa9d-3edc66d7cf2a",
   "metadata": {},
   "outputs": [],
   "source": []
  }
 ],
 "metadata": {
  "kernelspec": {
   "display_name": "Python [conda env:base] *",
   "language": "python",
   "name": "conda-base-py"
  },
  "language_info": {
   "codemirror_mode": {
    "name": "ipython",
    "version": 3
   },
   "file_extension": ".py",
   "mimetype": "text/x-python",
   "name": "python",
   "nbconvert_exporter": "python",
   "pygments_lexer": "ipython3",
   "version": "3.12.7"
  }
 },
 "nbformat": 4,
 "nbformat_minor": 5
}
